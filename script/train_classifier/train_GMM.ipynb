{
 "cells": [
  {
   "cell_type": "markdown",
   "id": "b02c2900-ed30-4211-867b-d76fd3b226da",
   "metadata": {},
   "source": [
    "# GMM Training on DistilHuBERT Layer Features\n",
    "GMM model on concatenated outputs from the first three layers of the fine-tuned DistilHuBERT model (step1)\n",
    "* 1000 batch"
   ]
  },
  {
   "cell_type": "code",
   "execution_count": 1,
   "id": "c6957f51-acfb-4bee-bcb2-9a3afba1ee8d",
   "metadata": {},
   "outputs": [],
   "source": [
    "import sys\n",
    "sys.executable\n",
    "\n",
    "import torch, gc\n",
    "gc.collect()\n",
    "torch.cuda.empty_cache()"
   ]
  },
  {
   "cell_type": "code",
   "execution_count": 2,
   "id": "abfc0b56-826b-4169-8512-d1975aac22c3",
   "metadata": {},
   "outputs": [],
   "source": [
    "import os\n",
    "import torch\n",
    "import numpy as np\n",
    "from sklearn.mixture import GaussianMixture\n",
    "from sklearn.preprocessing import StandardScaler\n",
    "from sklearn.decomposition import PCA, IncrementalPCA\n",
    "from transformers import AutoProcessor, AutoModel\n",
    "from datasets import load_dataset, Audio\n",
    "from train_classifier import extract_all_layer_features\n",
    "import joblib\n",
    "from tqdm import tqdm\n",
    "import matplotlib.pyplot as plt"
   ]
  },
  {
   "cell_type": "code",
   "execution_count": 3,
   "id": "92d703ac-5f40-49d6-b1d6-fe6c1e546384",
   "metadata": {},
   "outputs": [],
   "source": [
    "device = torch.device(\"cuda\" if torch.cuda.is_available() else \"cpu\")\n",
    "model = AutoModel.from_pretrained(\"/mnt/scratch/pippalin2/jupyter/GMM-DistilHuBERT/checkpoints_distilhubert_asr/final_model\").to(device)\n",
    "processor = AutoProcessor.from_pretrained(\"/mnt/scratch/pippalin2/jupyter/GMM-DistilHuBERT/checkpoints_distilhubert_asr/final_model\")"
   ]
  },
  {
   "cell_type": "code",
   "execution_count": 4,
   "id": "f5729d82-4d30-463f-ad4c-ac63e887120a",
   "metadata": {},
   "outputs": [
    {
     "data": {
      "application/vnd.jupyter.widget-view+json": {
       "model_id": "32f9905c80234dc8b57cd85b3523faf1",
       "version_major": 2,
       "version_minor": 0
      },
      "text/plain": [
       "Resolving data files:   0%|          | 0/151472 [00:00<?, ?it/s]"
      ]
     },
     "metadata": {},
     "output_type": "display_data"
    }
   ],
   "source": [
    "dataset = load_dataset(\"audiofolder\", \n",
    "                       data_dir=\"/mnt/scratch/pippalin2/jupyter/GMM-DistilHuBERT/data/LibriSpeech/train-other-500\")[\"train\"]\n",
    "dataset = dataset.cast_column(\"audio\", Audio(sampling_rate=16000))"
   ]
  },
  {
   "cell_type": "code",
   "execution_count": 6,
   "id": "bc0dd228-18b4-4792-87bb-f62652074902",
   "metadata": {
    "scrolled": true
   },
   "outputs": [
    {
     "data": {
      "application/vnd.jupyter.widget-view+json": {
       "model_id": "6b8bdf91bff14130a129e5eb40eb94ab",
       "version_major": 2,
       "version_minor": 0
      },
      "text/plain": [
       "Resolving data files:   0%|          | 0/178 [00:00<?, ?it/s]"
      ]
     },
     "metadata": {},
     "output_type": "display_data"
    },
    {
     "name": "stdout",
     "output_type": "stream",
     "text": [
      "Loaded dataset: 173\n",
      "Example: {'audio': {'path': '/mnt/scratch/pippalin2/jupyter/GMM-DistilHuBERT/data/LibriSpeech/train-other-500/3885/1193/3885-1193-0000.flac', 'array': array([ 0.00021362,  0.00024414,  0.00027466, ..., -0.00094604,\n",
      "       -0.00094604, -0.00106812]), 'sampling_rate': 16000}, 'label': 0}\n",
      "Combined feature shape: (73978, 2304)\n",
      "Initialization 0\n",
      "  Iteration 10\n",
      "  Iteration 20\n",
      "  Iteration 30\n",
      "  Iteration 40\n",
      "  Iteration 50\n",
      "  Iteration 60\n",
      "  Iteration 70\n",
      "  Iteration 80\n",
      "  Iteration 90\n",
      "Initialization converged.\n",
      "Posterior shape: (192, 500)\n",
      "First posterior (rounded): [0. 0. 0. 0. 0. 0. 0. 0. 0. 0. 0. 0. 0. 0. 0. 0. 0. 0. 0. 0. 0. 0. 0. 0.\n",
      " 0. 0. 0. 0. 0. 0. 0. 0. 0. 0. 0. 0. 0. 0. 0. 0. 0. 0. 0. 0. 0. 0. 0. 0.\n",
      " 0. 0. 0. 0. 0. 0. 0. 0. 0. 0. 0. 0. 0. 0. 0. 0. 0. 0. 0. 0. 0. 0. 0. 0.\n",
      " 0. 0. 0. 0. 0. 0. 0. 0. 0. 0. 0. 0. 0. 0. 0. 0. 0. 0. 0. 0. 0. 0. 0. 0.\n",
      " 0. 0. 0. 1. 0. 0. 0. 0. 0. 0. 0. 0. 0. 0. 0. 0. 0. 0. 0. 0. 0. 0. 0. 0.\n",
      " 0. 0. 0. 0. 0. 0. 0. 0. 0. 0. 0. 0. 0. 0. 0. 0. 0. 0. 0. 0. 0. 0. 0. 0.\n",
      " 0. 0. 0. 0. 0. 0. 0. 0. 0. 0. 0. 0. 0. 0. 0. 0. 0. 0. 0. 0. 0. 0. 0. 0.\n",
      " 0. 0. 0. 0. 0. 0. 0. 0. 0. 0. 0. 0. 0. 0. 0. 0. 0. 0. 0. 0. 0. 0. 0. 0.\n",
      " 0. 0. 0. 0. 0. 0. 0. 0. 0. 0. 0. 0. 0. 0. 0. 0. 0. 0. 0. 0. 0. 0. 0. 0.\n",
      " 0. 0. 0. 0. 0. 0. 0. 0. 0. 0. 0. 0. 0. 0. 0. 0. 0. 0. 0. 0. 0. 0. 0. 0.\n",
      " 0. 0. 0. 0. 0. 0. 0. 0. 0. 0. 0. 0. 0. 0. 0. 0. 0. 0. 0. 0. 0. 0. 0. 0.\n",
      " 0. 0. 0. 0. 0. 0. 0. 0. 0. 0. 0. 0. 0. 0. 0. 0. 0. 0. 0. 0. 0. 0. 0. 0.\n",
      " 0. 0. 0. 0. 0. 0. 0. 0. 0. 0. 0. 0. 0. 0. 0. 0. 0. 0. 0. 0. 0. 0. 0. 0.\n",
      " 0. 0. 0. 0. 0. 0. 0. 0. 0. 0. 0. 0. 0. 0. 0. 0. 0. 0. 0. 0. 0. 0. 0. 0.\n",
      " 0. 0. 0. 0. 0. 0. 0. 0. 0. 0. 0. 0. 0. 0. 0. 0. 0. 0. 0. 0. 0. 0. 0. 0.\n",
      " 0. 0. 0. 0. 0. 0. 0. 0. 0. 0. 0. 0. 0. 0. 0. 0. 0. 0. 0. 0. 0. 0. 0. 0.\n",
      " 0. 0. 0. 0. 0. 0. 0. 0. 0. 0. 0. 0. 0. 0. 0. 0. 0. 0. 0. 0. 0. 0. 0. 0.\n",
      " 0. 0. 0. 0. 0. 0. 0. 0. 0. 0. 0. 0. 0. 0. 0. 0. 0. 0. 0. 0. 0. 0. 0. 0.\n",
      " 0. 0. 0. 0. 0. 0. 0. 0. 0. 0. 0. 0. 0. 0. 0. 0. 0. 0. 0. 0. 0. 0. 0. 0.\n",
      " 0. 0. 0. 0. 0. 0. 0. 0. 0. 0. 0. 0. 0. 0. 0. 0. 0. 0. 0. 0. 0. 0. 0. 0.\n",
      " 0. 0. 0. 0. 0. 0. 0. 0. 0. 0. 0. 0. 0. 0. 0. 0. 0. 0. 0. 0.]\n"
     ]
    }
   ],
   "source": [
    "'''\n",
    "# Test\n",
    "small_dataset = load_dataset(\n",
    "    \"audiofolder\",\n",
    "    data_dir=\"/mnt/scratch/pippalin2/jupyter/GMM-DistilHuBERT/data/LibriSpeech/train-other-500/3885\"\n",
    ")[\"train\"]\n",
    "\n",
    "print(\"Loaded dataset:\", len(small_dataset))\n",
    "print(\"Example:\", small_dataset[0])\n",
    "\n",
    "# Ensure 16kHz sampling rate\n",
    "small_dataset = small_dataset.cast_column(\"audio\", Audio(sampling_rate=16000))\n",
    "\n",
    "# Feature extraction\n",
    "all_features = []\n",
    "for example in small_dataset:\n",
    "    waveform = processor(example[\"audio\"][\"array\"], sampling_rate=16000, return_tensors=\"pt\").input_values.to(device)\n",
    "    feats = extract_all_layer_features(model, waveform, layers=[0, 1, 2])\n",
    "    all_features.append(feats.squeeze(0).cpu().numpy())  # [T, D]\n",
    "\n",
    "all_feats = np.vstack(all_features)  # [total_T, 2304]\n",
    "print(\"Combined feature shape:\", all_feats.shape)\n",
    "\n",
    "# Standardize + PCA to 256 dims\n",
    "scaler = StandardScaler()\n",
    "pca = PCA(n_components=256)\n",
    "\n",
    "all_feats_scaled = scaler.fit_transform(all_feats)\n",
    "all_feats_pca = pca.fit_transform(all_feats_scaled)\n",
    "\n",
    "# Fit GMM\n",
    "gmm = GaussianMixture(n_components=500, covariance_type=\"diag\", reg_covar=1e-2, max_iter=100, verbose=1)\n",
    "gmm.fit(all_feats_pca)\n",
    "\n",
    "# Get soft posteriors on a sample\n",
    "test_feats = extract_all_layer_features(model, waveform, layers=[0, 1, 2]).squeeze(0).cpu().numpy()\n",
    "test_feats_scaled = scaler.transform(test_feats)\n",
    "test_feats_pca = pca.transform(test_feats_scaled)\n",
    "posterior_probs = gmm.predict_proba(test_feats_pca)\n",
    "\n",
    "print(\"Posterior shape:\", posterior_probs.shape)\n",
    "print(\"First posterior (rounded):\", np.round(posterior_probs[5], 3))\n",
    "'''"
   ]
  },
  {
   "cell_type": "code",
   "execution_count": 12,
   "id": "93ebc3cc-4de2-42fc-98d8-7c0fad915bab",
   "metadata": {},
   "outputs": [
    {
     "name": "stdout",
     "output_type": "stream",
     "text": [
      "Entropy: Mean = 0.0026, Std = 0.0107\n"
     ]
    },
    {
     "data": {
      "image/png": "[encoded data removed]",
      "text/plain": [
       "<Figure size 600x400 with 1 Axes>"
      ]
     },
     "metadata": {},
     "output_type": "display_data"
    }
   ],
   "source": [
    "'''\n",
    "# Compute entropy\n",
    "entropy = -np.sum(posterior_probs * np.log(posterior_probs + 1e-8), axis=1)\n",
    "print(f\"Entropy: Mean = {entropy.mean():.4f}, Std = {entropy.std():.4f}\")\n",
    "\n",
    "plt.figure(figsize=(6, 4))\n",
    "plt.boxplot(entropy, vert=True, patch_artist=True,\n",
    "            boxprops=dict(facecolor='lightblue', color='blue'),\n",
    "            medianprops=dict(color='red'),\n",
    "            whiskerprops=dict(color='blue'),\n",
    "            capprops=dict(color='blue'))\n",
    "plt.ylabel(\"Entropy\")\n",
    "plt.title(\"Entropy for 3 Layers Combined GMM\")\n",
    "plt.grid(axis='y')\n",
    "plt.show()\n",
    "'''"
   ]
  },
  {
   "cell_type": "markdown",
   "id": "35b53726-c1b3-4e45-ad8c-2200a18246f0",
   "metadata": {},
   "source": [
    "#### Full dataset"
   ]
  },
  {
   "cell_type": "code",
   "execution_count": 5,
   "id": "33fcac35-f93d-4c5a-95b8-0d10796ec5ce",
   "metadata": {},
   "outputs": [
    {
     "name": "stdout",
     "output_type": "stream",
     "text": [
      "First pass: Resuming from dataset index 124256 (batch #3883)\n"
     ]
    },
    {
     "name": "stderr",
     "output_type": "stream",
     "text": [
      "100%|███████████████████████████████████████| 764/764 [2:44:57<00:00, 12.95s/it]"
     ]
    },
    {
     "name": "stdout",
     "output_type": "stream",
     "text": [
      "First pass complete. Scaler and PCA are now trained.\n"
     ]
    },
    {
     "name": "stderr",
     "output_type": "stream",
     "text": [
      "\n"
     ]
    }
   ],
   "source": [
    "'''\n",
    "# Paths\n",
    "save_path = \"/scratch/pippalin2/jupyter/GMM-DistilHuBERT/script/train_classifier/\"\n",
    "checkpoint_dir = os.path.join(save_path, \"save_pathgmm_checkpoints\")\n",
    "os.makedirs(checkpoint_dir, exist_ok=True)\n",
    "\n",
    "# Settings\n",
    "batch_size = 32\n",
    "pca_dim = 256\n",
    "\n",
    "# Resume checkpoint\n",
    "batch_start = 0\n",
    "if os.path.exists(os.path.join(checkpoint_dir, \"checkpoint_batch.txt\")):\n",
    "    with open(os.path.join(checkpoint_dir, \"checkpoint_batch.txt\"), \"r\") as f:\n",
    "        batch_start = int(f.read().strip())\n",
    "\n",
    "if batch_start == 0:\n",
    "    scaler = StandardScaler()\n",
    "    pca = IncrementalPCA(n_components=pca_dim)\n",
    "else:\n",
    "    scaler = joblib.load(os.path.join(checkpoint_dir, \"scaler.pkl\"))\n",
    "    pca = joblib.load(os.path.join(checkpoint_dir, \"pca.pkl\"))\n",
    "\n",
    "# First pass: incrementally fit scaler and PCA\n",
    "print(f\"First pass: Resuming from dataset index {batch_start} (batch #{batch_start // batch_size})\")\n",
    "for i in tqdm(range(batch_start, len(dataset), batch_size)):\n",
    "    # Save progress BEFORE processing the batch\n",
    "    with open(os.path.join(checkpoint_dir, \"checkpoint_batch.txt\"), \"w\") as f:\n",
    "        f.write(str(i))\n",
    "\n",
    "    batch = dataset.select(range(i, min(i + batch_size, len(dataset))))\n",
    "    batch_feats = []\n",
    "\n",
    "    with torch.no_grad():\n",
    "        for example in batch:\n",
    "            waveform = processor(example[\"audio\"][\"array\"], sampling_rate=16000, return_tensors=\"pt\").input_values.to(device)\n",
    "            feats = extract_all_layer_features(model, waveform, layers=[0, 1, 2])\n",
    "            batch_feats.append(feats.squeeze(0).cpu().numpy())\n",
    "\n",
    "    X_batch = np.vstack(batch_feats)\n",
    "\n",
    "    # Faster: don't transform during first pass\n",
    "    scaler.partial_fit(X_batch)\n",
    "    pca.partial_fit(X_batch)\n",
    "\n",
    "    joblib.dump(scaler, os.path.join(checkpoint_dir, \"scaler.pkl\"))\n",
    "    joblib.dump(pca, os.path.join(checkpoint_dir, \"pca.pkl\"))\n",
    "'''"
   ]
  },
  {
   "cell_type": "code",
   "execution_count": null,
   "id": "b95e9926-6add-4631-a496-cb27f846635a",
   "metadata": {},
   "outputs": [],
   "source": [
    "'''\n",
    "# Clean up\n",
    "if os.path.exists(os.path.join(checkpoint_dir, \"checkpoint_batch.txt\")):\n",
    "    os.remove(os.path.join(checkpoint_dir, \"checkpoint_batch.txt\"))\n",
    "\n",
    "print(\"First pass complete. Scaler and PCA are now trained.\")\n",
    "'''"
   ]
  },
  {
   "cell_type": "code",
   "execution_count": null,
   "id": "9f044a70-209d-4fd3-acec-8d020bf8490a",
   "metadata": {},
   "outputs": [],
   "source": [
    "joblib.dump(gmm, save_path+\"gmm_model.pkl\")\n",
    "joblib.dump(scaler, save_path+\"gmm_scaler.pkl\")\n",
    "joblib.dump(pca, save_path+\"gmm_pca.pkl\")\n",
    "print(\"Saved GMM, scaler, and PCA.\")"
   ]
  },
  {
   "cell_type": "code",
   "execution_count": null,
   "id": "6db3dafb-682a-4657-91b8-a971931e5e86",
   "metadata": {},
   "outputs": [],
   "source": [
    "# Cell 7: Save Soft Labels for Debugging/Inspection\n",
    "soft_labels = gmm.predict_proba(all_features)\n",
    "np.save(save_path+\"soft_labels.npy\", soft_labels)"
   ]
  }
 ],
 "metadata": {
  "kernelspec": {
   "display_name": "Python 3 (ipykernel)",
   "language": "python",
   "name": "python3"
  },
  "language_info": {
   "codemirror_mode": {
    "name": "ipython",
    "version": 3
   },
   "file_extension": ".py",
   "mimetype": "text/x-python",
   "name": "python",
   "nbconvert_exporter": "python",
   "pygments_lexer": "ipython3",
   "version": "3.10.16"
  }
 },
 "nbformat": 4,
 "nbformat_minor": 5
}
