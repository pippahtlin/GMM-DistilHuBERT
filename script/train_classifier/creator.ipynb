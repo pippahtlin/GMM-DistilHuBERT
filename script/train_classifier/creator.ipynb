{
 "cells": [
  {
   "cell_type": "code",
   "execution_count": 2,
   "id": "9ae8c648-9262-4777-9d41-0169ac8a14c4",
   "metadata": {},
   "outputs": [],
   "source": [
    "from datasets import load_from_disk, DatasetDict\n",
    "from transformers import Wav2Vec2CTCTokenizer, Wav2Vec2Processor\n",
    "import jiwer\n",
    "import torchaudio\n",
    "import os\n",
    "import pandas as pd"
   ]
  },
  {
   "cell_type": "code",
   "execution_count": 3,
   "id": "eb54ad09-9cca-4617-b4ba-b85b01caac50",
   "metadata": {},
   "outputs": [
    {
     "data": {
      "application/vnd.jupyter.widget-view+json": {
       "model_id": "18f4558528b845d5b8709d0922d5c303",
       "version_major": 2,
       "version_minor": 0
      },
      "text/plain": [
       "Loading dataset from disk:   0%|          | 0/47 [00:00<?, ?it/s]"
      ]
     },
     "metadata": {},
     "output_type": "display_data"
    },
    {
     "data": {
      "application/vnd.jupyter.widget-view+json": {
       "model_id": "666e94af56be4567ba1d01584720fcd2",
       "version_major": 2,
       "version_minor": 0
      },
      "text/plain": [
       "Map:   0%|          | 0/28523 [00:00<?, ? examples/s]"
      ]
     },
     "metadata": {},
     "output_type": "display_data"
    },
    {
     "data": {
      "application/vnd.jupyter.widget-view+json": {
       "model_id": "89ee1ce0a3c3468cbbe745bdb58a4600",
       "version_major": 2,
       "version_minor": 0
      },
      "text/plain": [
       "Map:   0%|          | 0/28523 [00:00<?, ? examples/s]"
      ]
     },
     "metadata": {},
     "output_type": "display_data"
    },
    {
     "data": {
      "application/vnd.jupyter.widget-view+json": {
       "model_id": "2900c2031cb146de977ca7e51f222df3",
       "version_major": 2,
       "version_minor": 0
      },
      "text/plain": [
       "Saving the dataset (0/47 shards):   0%|          | 0/28523 [00:00<?, ? examples/s]"
      ]
     },
     "metadata": {},
     "output_type": "display_data"
    },
    {
     "name": "stdout",
     "output_type": "stream",
     "text": [
      "✅ Preprocessed dataset saved to: /scratch/pippalin2/jupyter/GMM-DistilHuBERT/data/hf_librispeech_clean100_preprocessed\n"
     ]
    }
   ],
   "source": [
    "# ==== Paths ====\n",
    "input_path = \"/scratch/pippalin2/jupyter/GMM-DistilHuBERT/data/hf_librispeech_clean100\"\n",
    "output_path = \"/scratch/pippalin2/jupyter/GMM-DistilHuBERT/data/hf_librispeech_clean100_preprocessed\"\n",
    "\n",
    "# ==== Load raw dataset ====\n",
    "ds = load_from_disk(input_path)\n",
    "\n",
    "# ==== Load tokenizer/processor ====\n",
    "tokenizer = Wav2Vec2CTCTokenizer.from_pretrained(\"facebook/wav2vec2-base-960h\")\n",
    "processor = Wav2Vec2Processor.from_pretrained(\"facebook/wav2vec2-base-960h\")\n",
    "\n",
    "# ==== Text cleaning ====\n",
    "transform = jiwer.Compose([\n",
    "    jiwer.ToLowerCase(),\n",
    "    jiwer.RemovePunctuation(),\n",
    "    jiwer.RemoveMultipleSpaces(),\n",
    "    jiwer.Strip()\n",
    "])\n",
    "\n",
    "def clean_text(batch):\n",
    "    batch[\"text\"] = transform(batch[\"text\"])\n",
    "    return batch\n",
    "\n",
    "# ==== Feature extraction ====\n",
    "def extract_features(batch):\n",
    "    audio = batch[\"audio\"]\n",
    "    batch[\"input_values\"] = processor(audio[\"array\"], sampling_rate=audio[\"sampling_rate\"]).input_values[0]\n",
    "    batch[\"labels\"] = tokenizer(batch[\"text\"]).input_ids\n",
    "    return batch\n",
    "\n",
    "# ==== Apply transforms ====\n",
    "ds = ds.map(clean_text)\n",
    "ds = ds.map(extract_features, remove_columns=ds.column_names)\n",
    "\n",
    "# ==== Save preprocessed dataset ====\n",
    "DatasetDict({\"train\": ds}).save_to_disk(output_path)\n",
    "print(f\"✅ Preprocessed dataset saved to: {output_path}\")"
   ]
  },
  {
   "cell_type": "code",
   "execution_count": 8,
   "id": "ba29742c-f0c2-4c09-bf69-4804f1ca2554",
   "metadata": {},
   "outputs": [
    {
     "data": {
      "application/vnd.jupyter.widget-view+json": {
       "model_id": "8fad67fc78e64dbea65244ea1a57a16a",
       "version_major": 2,
       "version_minor": 0
      },
      "text/plain": [
       "Loading dataset from disk:   0%|          | 0/80 [00:00<?, ?it/s]"
      ]
     },
     "metadata": {},
     "output_type": "display_data"
    },
    {
     "data": {
      "application/vnd.jupyter.widget-view+json": {
       "model_id": "a3f6e63d98bf4b07b6d93241c0c62211",
       "version_major": 2,
       "version_minor": 0
      },
      "text/plain": [
       "Map:   0%|          | 0/49256 [00:00<?, ? examples/s]"
      ]
     },
     "metadata": {},
     "output_type": "display_data"
    },
    {
     "data": {
      "application/vnd.jupyter.widget-view+json": {
       "model_id": "e58d007fd31d4622a4a302b9aca77348",
       "version_major": 2,
       "version_minor": 0
      },
      "text/plain": [
       "Saving the dataset (0/80 shards):   0%|          | 0/49256 [00:00<?, ? examples/s]"
      ]
     },
     "metadata": {},
     "output_type": "display_data"
    },
    {
     "name": "stdout",
     "output_type": "stream",
     "text": [
      "✅ Test-clean preprocessed and saved correctly.\n"
     ]
    }
   ],
   "source": [
    "from datasets import load_from_disk\n",
    "from transformers import Wav2Vec2CTCTokenizer, Wav2Vec2Processor\n",
    "import jiwer\n",
    "\n",
    "input_path = \"/scratch/pippalin2/jupyter/GMM-DistilHuBERT/data/hf_test_clean\"\n",
    "output_path = \"/scratch/pippalin2/jupyter/GMM-DistilHuBERT/data/hf_test_clean_preprocessed\"\n",
    "\n",
    "tokenizer = Wav2Vec2CTCTokenizer.from_pretrained(\"facebook/wav2vec2-base-960h\")\n",
    "processor = Wav2Vec2Processor.from_pretrained(\"facebook/wav2vec2-base-960h\")\n",
    "\n",
    "transform = jiwer.Compose([\n",
    "    jiwer.ToLowerCase(),\n",
    "    jiwer.RemovePunctuation(),\n",
    "    jiwer.RemoveMultipleSpaces(),\n",
    "    jiwer.Strip()\n",
    "])\n",
    "\n",
    "def clean_text(batch):\n",
    "    batch[\"text\"] = transform(batch[\"text\"])\n",
    "    return batch\n",
    "\n",
    "def extract_features(batch):\n",
    "    audio = batch[\"audio\"]\n",
    "    batch[\"input_values\"] = processor(audio[\"array\"], sampling_rate=audio[\"sampling_rate\"]).input_values[0]\n",
    "    batch[\"labels\"] = tokenizer(batch[\"text\"]).input_ids\n",
    "    return batch\n",
    "\n",
    "# ds is a DatasetDict, e.g. {\"train\": test-clean}\n",
    "ds = load_from_disk(input_path)\n",
    "ds = ds.map(clean_text)\n",
    "ds = ds.map(extract_features, remove_columns=[\"path\", \"utt_id\", \"text\", \"audio\"])\n",
    "\n",
    "# ✅ save without wrapping again\n",
    "ds.save_to_disk(output_path)\n",
    "\n",
    "print(\"✅ Test-clean preprocessed and saved correctly.\")"
   ]
  },
  {
   "cell_type": "code",
   "execution_count": 10,
   "id": "d3fb2991-00e2-489a-ac4a-00cb33138ab9",
   "metadata": {},
   "outputs": [
    {
     "data": {
      "application/vnd.jupyter.widget-view+json": {
       "model_id": "3c6cd4fad27a4678a95d6b18a52f7261",
       "version_major": 2,
       "version_minor": 0
      },
      "text/plain": [
       "Loading dataset from disk:   0%|          | 0/47 [00:00<?, ?it/s]"
      ]
     },
     "metadata": {},
     "output_type": "display_data"
    },
    {
     "data": {
      "application/vnd.jupyter.widget-view+json": {
       "model_id": "a608140769254bf3bb7ac8be858cc0de",
       "version_major": 2,
       "version_minor": 0
      },
      "text/plain": [
       "Loading dataset from disk:   0%|          | 0/80 [00:00<?, ?it/s]"
      ]
     },
     "metadata": {},
     "output_type": "display_data"
    }
   ],
   "source": [
    "train_dataset = load_from_disk(os.path.join(\"/scratch/pippalin2/jupyter/GMM-DistilHuBERT/data/hf_librispeech_clean100_preprocessed\"))[\"train\"]\n",
    "eval_dataset = load_from_disk(os.path.join(\"/scratch/pippalin2/jupyter/GMM-DistilHuBERT/data/hf_test_clean_preprocessed\"))[\"train\"]"
   ]
  },
  {
   "cell_type": "code",
   "execution_count": 2,
   "id": "aea769ab-b66e-4fba-8abc-14d0772c1d21",
   "metadata": {},
   "outputs": [
    {
     "name": "stdout",
     "output_type": "stream",
     "text": [
      "True\n",
      "NVIDIA GeForce RTX 2080 Ti\n"
     ]
    }
   ],
   "source": [
    "import torch\n",
    "print(torch.cuda.is_available())  # Should return: True\n",
    "print(torch.cuda.get_device_name(0))  # Should return: 'NVIDIA GeForce RTX 2080 Ti'\n"
   ]
  },
  {
   "cell_type": "code",
   "execution_count": 10,
   "id": "377956e1-5756-402f-bca6-f02aba5b9b34",
   "metadata": {},
   "outputs": [
    {
     "data": {
      "application/vnd.jupyter.widget-view+json": {
       "model_id": "564570c7dd8941af8cd539e3f5629e85",
       "version_major": 2,
       "version_minor": 0
      },
      "text/plain": [
       "Loading dataset from disk:   0%|          | 0/47 [00:00<?, ?it/s]"
      ]
     },
     "metadata": {},
     "output_type": "display_data"
    },
    {
     "name": "stdout",
     "output_type": "stream",
     "text": [
      "soft_labels: (26816, 500), dataset: 28523\n",
      "Padding with 1707 zero-vectors of shape (500,)\n"
     ]
    },
    {
     "data": {
      "application/vnd.jupyter.widget-view+json": {
       "model_id": "7b41ad6ad254470689427d7a2b41d09f",
       "version_major": 2,
       "version_minor": 0
      },
      "text/plain": [
       "Saving the dataset (0/47 shards):   0%|          | 0/28523 [00:00<?, ? examples/s]"
      ]
     },
     "metadata": {},
     "output_type": "display_data"
    },
    {
     "name": "stdout",
     "output_type": "stream",
     "text": [
      "✅ Saved padded dataset.\n"
     ]
    }
   ],
   "source": [
    "from datasets import load_from_disk\n",
    "import numpy as np\n",
    "\n",
    "data_dir = \"/scratch/pippalin2/jupyter/GMM-DistilHuBERT\"\n",
    "dataset_path = f\"{data_dir}/data/hf_librispeech_clean100\"\n",
    "dataset = load_from_disk(dataset_path)\n",
    "\n",
    "soft_labels = np.load(f\"{data_dir}/script/train_classifier/soft_labels_clean100.npy\")\n",
    "print(f\"soft_labels: {soft_labels.shape}, dataset: {len(dataset)}\")\n",
    "\n",
    "# Step 1: Determine label dim\n",
    "K = soft_labels.shape[1]\n",
    "\n",
    "# Step 2: Pad if needed\n",
    "pad_count = len(dataset) - soft_labels.shape[0]\n",
    "if pad_count > 0:\n",
    "    print(f\"Padding with {pad_count} zero-vectors of shape ({K},)\")\n",
    "    padding = np.zeros((pad_count, K), dtype=np.float32)\n",
    "    soft_labels = np.concatenate([soft_labels, padding], axis=0)\n",
    "elif pad_count < 0:\n",
    "    print(f\"Truncating {abs(pad_count)} entries\")\n",
    "    soft_labels = soft_labels[:len(dataset)]\n",
    "\n",
    "# Step 3: Add to dataset and save\n",
    "dataset = dataset.add_column(\"soft_labels\", soft_labels.tolist())\n",
    "dataset.save_to_disk(f\"{dataset_path}_with_softlabels\")\n",
    "print(\"✅ Saved padded dataset.\")\n"
   ]
  },
  {
   "cell_type": "code",
   "execution_count": 13,
   "id": "54f6c8ce-53f9-460d-98f1-7439955e3ee2",
   "metadata": {},
   "outputs": [
    {
     "name": "stdout",
     "output_type": "stream",
     "text": [
      "✅ Removed old checkpoint.\n",
      "✅ Removed old training log.\n"
     ]
    }
   ],
   "source": [
    "import os\n",
    "\n",
    "checkpoint_path = \"/mnt/scratch/pippalin2/jupyter/GMM-DistilHuBERT/script/train_classifier/GMM_DHuBERT_pretrain/gmm_pretrained_distilhubert/checkpoint.pt\"\n",
    "log_path = \"/mnt/scratch/pippalin2/jupyter/GMM-DistilHuBERT/script/train_classifier/GMM_DHuBERT_pretrain/gmm_pretrained_distilhubert/training_log.csv\"\n",
    "\n",
    "# Delete if they exist\n",
    "if os.path.exists(checkpoint_path):\n",
    "    os.remove(checkpoint_path)\n",
    "    print(\"✅ Removed old checkpoint.\")\n",
    "\n",
    "if os.path.exists(log_path):\n",
    "    os.remove(log_path)\n",
    "    print(\"✅ Removed old training log.\")\n"
   ]
  },
  {
   "cell_type": "code",
   "execution_count": null,
   "id": "58313fac-86b4-4233-9452-de4735c5f1c6",
   "metadata": {},
   "outputs": [],
   "source": []
  }
 ],
 "metadata": {
  "kernelspec": {
   "display_name": "Python 3 (ipykernel)",
   "language": "python",
   "name": "python3"
  },
  "language_info": {
   "codemirror_mode": {
    "name": "ipython",
    "version": 3
   },
   "file_extension": ".py",
   "mimetype": "text/x-python",
   "name": "python",
   "nbconvert_exporter": "python",
   "pygments_lexer": "ipython3",
   "version": "3.10.16"
  }
 },
 "nbformat": 4,
 "nbformat_minor": 5
}
