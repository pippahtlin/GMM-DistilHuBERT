{
 "cells": [
  {
   "cell_type": "markdown",
   "id": "4d7d1b80-a32d-4886-b3b3-2af9fa459f9e",
   "metadata": {},
   "source": [
    "### From torchaudio"
   ]
  },
  {
   "cell_type": "code",
   "execution_count": 12,
   "id": "0d13e575-9050-414b-9a17-e5e70820313f",
   "metadata": {},
   "outputs": [
    {
     "data": {
      "text/plain": [
       "'\\n# download dataet\\ndataset = torchaudio.datasets.LIBRISPEECH(\\n    root=\"./data\",\\n    url=\"train-clean-100\", \\n    download=True\\n)\\n'"
      ]
     },
     "execution_count": 12,
     "metadata": {},
     "output_type": "execute_result"
    }
   ],
   "source": [
    "import torchaudio\n",
    "from datasets import Dataset, load_from_disk\n",
    " \n",
    "'''\n",
    "# download dataet\n",
    "dataset = torchaudio.datasets.LIBRISPEECH(\n",
    "    root=\"./data\",\n",
    "    url=\"train-clean-100\", \n",
    "    download=True\n",
    ")\n",
    "'''"
   ]
  },
  {
   "cell_type": "markdown",
   "id": "a1b75d94-8f52-442c-ad6a-a4714e2aaac8",
   "metadata": {},
   "source": [
    "waveform: Tensor of shape (1, num_samples) \\\n",
    "sample_rate: Samples per second (typically 16000)\\\n",
    "num_samples: Total number of samples in the utterance\\\n",
    "duration: num_samples / sample_rate (in seconds)"
   ]
  },
  {
   "cell_type": "code",
   "execution_count": 7,
   "id": "712b3e8f-e2db-488d-962d-8bdc1eb71e08",
   "metadata": {
    "scrolled": true
   },
   "outputs": [],
   "source": [
    "# import dataset\n",
    "training_dataset = torchaudio.datasets.LIBRISPEECH(\n",
    "    root=\"/scratch/pippalin2/jupyter/GMM-DistilHuBERT/data\",    # where your LibriSpeech folder lives\n",
    "    url=\"train-clean-100\",       # this must match the subfolder name\n",
    "    download=False            \n",
    ")\n",
    "\n",
    "# waveform, sample_rate, transcript, speaker_id, chapter_id, utterance_id = dataset[i]\n",
    "waveform, sample_rate, transcript, _, _, _ = training_dataset[0]"
   ]
  },
  {
   "cell_type": "markdown",
   "id": "0fcf346a-0c21-493b-9dc2-615c029f6309",
   "metadata": {},
   "source": [
    "### Turn to hugging_face format dataset"
   ]
  },
  {
   "cell_type": "code",
   "execution_count": 8,
   "id": "4e6f27f8-129e-4c54-bb43-a9b7c3e98b9c",
   "metadata": {},
   "outputs": [],
   "source": [
    "examples = []\n",
    "\n",
    "for waveform, sample_rate, transcript, _, _, _ in training_dataset:\n",
    "    examples.append({\n",
    "        \"audio\": {\n",
    "            \"array\": waveform.squeeze(0).numpy(),  # remove channel dim\n",
    "            \"sampling_rate\": sample_rate\n",
    "        },\n",
    "        \"text\": transcript\n",
    "    })"
   ]
  },
  {
   "cell_type": "code",
   "execution_count": 19,
   "id": "ce2a624d-0a5d-46af-bc55-17286736a0a7",
   "metadata": {},
   "outputs": [
    {
     "data": {
      "application/vnd.jupyter.widget-view+json": {
       "model_id": "e90f3f2e95474a79a7e84eab5f059f3f",
       "version_major": 2,
       "version_minor": 0
      },
      "text/plain": [
       "Saving the dataset (0/47 shards):   0%|          | 0/28523 [00:00<?, ? examples/s]"
      ]
     },
     "metadata": {},
     "output_type": "display_data"
    }
   ],
   "source": [
    "hf_dataset = Dataset.from_list(examples)\n",
    "hf_dataset.save_to_disk(\"/scratch/pippalin2/jupyter/GMM-DistilHuBERT/data/hf_librispeech_clean100\")"
   ]
  }
 ],
 "metadata": {
  "kernelspec": {
   "display_name": "Python 3 (ipykernel)",
   "language": "python",
   "name": "python3"
  },
  "language_info": {
   "codemirror_mode": {
    "name": "ipython",
    "version": 3
   },
   "file_extension": ".py",
   "mimetype": "text/x-python",
   "name": "python",
   "nbconvert_exporter": "python",
   "pygments_lexer": "ipython3",
   "version": "3.10.16"
  }
 },
 "nbformat": 4,
 "nbformat_minor": 5
}
