{
 "cells": [
  {
   "cell_type": "code",
   "execution_count": 3,
   "id": "0d13e575-9050-414b-9a17-e5e70820313f",
   "metadata": {},
   "outputs": [
    {
     "data": {
      "text/plain": [
       "'\\n# download dataet\\ndataset = torchaudio.datasets.LIBRISPEECH(\\n    root=\"./data\",\\n    url=\"train-clean-100\", \\n    download=True\\n)\\n'"
      ]
     },
     "execution_count": 3,
     "metadata": {},
     "output_type": "execute_result"
    }
   ],
   "source": [
    "import torchaudio\n",
    "\n",
    "'''\n",
    "# download dataet\n",
    "dataset = torchaudio.datasets.LIBRISPEECH(\n",
    "    root=\"./data\",\n",
    "    url=\"train-clean-100\", \n",
    "    download=True\n",
    ")\n",
    "'''"
   ]
  },
  {
   "cell_type": "code",
   "execution_count": 7,
   "id": "712b3e8f-e2db-488d-962d-8bdc1eb71e08",
   "metadata": {
    "scrolled": true
   },
   "outputs": [],
   "source": [
    "# import dataset\n",
    "training_dataset = torchaudio.datasets.LIBRISPEECH(\n",
    "    root=\"/scratch/pippalin2/jupyter/GMM-DistilHuBERT/data\",    # where your LibriSpeech folder lives\n",
    "    url=\"train-clean-100\",       # this must match the subfolder name\n",
    "    download=False            \n",
    ")\n",
    "\n",
    "# waveform, sample_rate, transcript, speaker_id, chapter_id, utterance_id = dataset[i]\n",
    "waveform, sample_rate, transcript, _, _, _ = training_dataset[0]"
   ]
  },
  {
   "cell_type": "code",
   "execution_count": null,
   "id": "b02d29d8-7551-4fb2-bd71-b692b07f0706",
   "metadata": {},
   "outputs": [],
   "source": []
  }
 ],
 "metadata": {
  "kernelspec": {
   "display_name": "Python 3 (ipykernel)",
   "language": "python",
   "name": "python3"
  },
  "language_info": {
   "codemirror_mode": {
    "name": "ipython",
    "version": 3
   },
   "file_extension": ".py",
   "mimetype": "text/x-python",
   "name": "python",
   "nbconvert_exporter": "python",
   "pygments_lexer": "ipython3",
   "version": "3.10.16"
  }
 },
 "nbformat": 4,
 "nbformat_minor": 5
}
