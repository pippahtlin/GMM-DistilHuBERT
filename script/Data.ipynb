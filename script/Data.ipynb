{
 "cells": [
  {
   "cell_type": "code",
   "execution_count": 3,
   "id": "0d13e575-9050-414b-9a17-e5e70820313f",
   "metadata": {},
   "outputs": [
    {
     "data": {
      "text/plain": [
       "'\\n# download dataet\\ndataset = torchaudio.datasets.LIBRISPEECH(\\n    root=\"./data\",\\n    url=\"train-clean-100\", \\n    download=True\\n)\\n'"
      ]
     },
     "execution_count": 3,
     "metadata": {},
     "output_type": "execute_result"
    }
   ],
   "source": [
    "import torchaudio\n",
    "\n",
    "'''\n",
    "# download dataet\n",
    "dataset = torchaudio.datasets.LIBRISPEECH(\n",
    "    root=\"./data\",\n",
    "    url=\"train-clean-100\", \n",
    "    download=True\n",
    ")\n",
    "'''"
   ]
  },
  {
   "cell_type": "markdown",
   "id": "a1b75d94-8f52-442c-ad6a-a4714e2aaac8",
   "metadata": {},
   "source": [
    "waveform: Tensor of shape (1, num_samples) \\\n",
    "sample_rate: Samples per second (typically 16000)\\\n",
    "num_samples: Total number of samples in the utterance\\\n",
    "duration: num_samples / sample_rate (in seconds)"
   ]
  },
  {
   "cell_type": "code",
   "execution_count": 7,
   "id": "712b3e8f-e2db-488d-962d-8bdc1eb71e08",
   "metadata": {
    "scrolled": true
   },
   "outputs": [],
   "source": [
    "# import dataset\n",
    "training_dataset = torchaudio.datasets.LIBRISPEECH(\n",
    "    root=\"/scratch/pippalin2/jupyter/GMM-DistilHuBERT/data\",    # where your LibriSpeech folder lives\n",
    "    url=\"train-clean-100\",       # this must match the subfolder name\n",
    "    download=False            \n",
    ")\n",
    "\n",
    "# waveform, sample_rate, transcript, speaker_id, chapter_id, utterance_id = dataset[i]\n",
    "waveform, sample_rate, transcript, _, _, _ = training_dataset[0]"
   ]
  },
  {
   "cell_type": "code",
   "execution_count": null,
   "id": "d47b23a8-4a59-430e-942b-50dffbb6ccae",
   "metadata": {},
   "outputs": [],
   "source": []
  }
 ],
 "metadata": {
  "kernelspec": {
   "display_name": "Python 3 (ipykernel)",
   "language": "python",
   "name": "python3"
  },
  "language_info": {
   "codemirror_mode": {
    "name": "ipython",
    "version": 3
   },
   "file_extension": ".py",
   "mimetype": "text/x-python",
   "name": "python",
   "nbconvert_exporter": "python",
   "pygments_lexer": "ipython3",
   "version": "3.10.16"
  }
 },
 "nbformat": 4,
 "nbformat_minor": 5
}
