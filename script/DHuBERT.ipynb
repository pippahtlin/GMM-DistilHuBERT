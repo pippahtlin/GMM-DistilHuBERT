{
 "cells": [
  {
   "cell_type": "code",
   "execution_count": 9,
   "id": "5d664494-3b0a-47bc-9b03-183e8f9e75e2",
   "metadata": {},
   "outputs": [
    {
     "name": "stdout",
     "output_type": "stream",
     "text": [
      "True\n"
     ]
    }
   ],
   "source": [
    "from transformers import AutoFeatureExtractor, AutoModel\n",
    "import torch\n",
    "import torchaudio\n",
    "from datasets import Dataset, load_from_disk\n",
    "import numpy as np\n",
    "print(torch.cuda.is_available())  # Should return True\n",
    "\n",
    "device = torch.device(\"cuda\" if torch.cuda.is_available() else \"cpu\")"
   ]
  },
  {
   "cell_type": "code",
   "execution_count": 11,
   "id": "9b9257ca-6dac-4e68-9288-67e519073744",
   "metadata": {},
   "outputs": [
    {
     "data": {
      "application/vnd.jupyter.widget-view+json": {
       "model_id": "601b4cb9207a408e97bf5e8bab66a52a",
       "version_major": 2,
       "version_minor": 0
      },
      "text/plain": [
       "Loading dataset from disk:   0%|          | 0/47 [00:00<?, ?it/s]"
      ]
     },
     "metadata": {},
     "output_type": "display_data"
    },
    {
     "data": {
      "text/plain": [
       "28523"
      ]
     },
     "execution_count": 11,
     "metadata": {},
     "output_type": "execute_result"
    }
   ],
   "source": [
    "# Import dataset\n",
    "dataset = load_from_disk(\"/share/data/lang/users/ttic_31110/GMM_DHuBERT/GMM-DistilHuBERT/data/hf_librispeech_clean100\")\n",
    "len(dataset)"
   ]
  },
  {
   "cell_type": "markdown",
   "id": "e4aa6464-5048-4b04-ad6a-2a7adcef3b2b",
   "metadata": {},
   "source": [
    "### Test DHuBERT"
   ]
  },
  {
   "cell_type": "code",
   "execution_count": 20,
   "id": "b1e7266f-2027-4d77-af0d-d396c91b036c",
   "metadata": {},
   "outputs": [],
   "source": [
    "example = dataset[0]\n",
    "waveform = torch.tensor(example[\"audio\"][\"array\"])\n",
    "sampling_rate = example[\"audio\"][\"sampling_rate\"]"
   ]
  },
  {
   "cell_type": "code",
   "execution_count": 21,
   "id": "2de20974-9c8b-4fff-b0ea-ce48b6ea0b0e",
   "metadata": {},
   "outputs": [
    {
     "name": "stdout",
     "output_type": "stream",
     "text": [
      "Hidden state shape: torch.Size([1, 704, 768])\n"
     ]
    }
   ],
   "source": [
    "# Load the feature extractor and model\n",
    "feature_extractor = AutoFeatureExtractor.from_pretrained(\"ntu-spml/distilhubert\")\n",
    "model = AutoModel.from_pretrained(\"ntu-spml/distilhubert\").to(device)\n",
    "\n",
    "# Preprocess waveform\n",
    "inputs = feature_extractor(waveform, sampling_rate=sampling_rate, return_tensors=\"pt\")\n",
    "inputs = {k: v.to(\"cuda\") for k, v in inputs.items()}\n",
    "\n",
    "# Inference\n",
    "with torch.no_grad():\n",
    "    outputs = model(**inputs)\n",
    "\n",
    "# Output hidden state shape\n",
    "print(\"Hidden state shape:\", outputs.last_hidden_state.shape)\n",
    "# 704 tokens (acoustic representation), each a 768-d vector"
   ]
  },
  {
   "cell_type": "markdown",
   "id": "a0831e54-79bb-486d-a6d7-7c4e1975a6f4",
   "metadata": {},
   "source": [
    "### Try Fine-Tuning on ASR"
   ]
  },
  {
   "cell_type": "code",
   "execution_count": 41,
   "id": "e9a35e54-a764-4327-a6de-e789d9d34970",
   "metadata": {},
   "outputs": [],
   "source": [
    "from transformers import AutoProcessor, AutoModelForCTC, TrainingArguments, Trainer\n",
    "import torch\n",
    "from dataclasses import dataclass\n",
    "from typing import Dict, List, Union\n",
    "import jiwer"
   ]
  },
  {
   "cell_type": "markdown",
   "id": "dc00e02c-2ee6-409a-bde8-f8ce4aae76b0",
   "metadata": {},
   "source": [
    "\n",
    "#### processor(audio[\"array\"], sampling_rate=audio[\"sampling_rate\"]).input_values[0]\n",
    "\n",
    "* Apply the processor that wraps a feature extractor and tokenizer to the waveform.\n",
    "* Returns a dict with a key like `input_values`: padded and normalized audio ready for the model.\n",
    "* You extract the first (and only) item in the batch using [0].\n",
    "\n",
    "`example[\"input_values\"]`: a vector of floats the model will ingest.\n",
    "\n",
    "#### with processor.as_target_processor():\n",
    "\n",
    "* Switches the processor into target mode which changes its behavior to tokenize text, not audio.\n",
    "* This is important for models where the same processor handles both input and label preprocessing.\n",
    "\n",
    "#### example[\"labels\"] = processor(example[\"text\"]).input_ids\n",
    "\n",
    "* Tokenizes the reference transcript into a sequence of IDs aka label tokens.\n",
    "* They’ll be aligned to the model’s output using CTC loss, allowing flexible alignment between audio and text."
   ]
  },
  {
   "cell_type": "code",
   "execution_count": null,
   "id": "34cbb8e5-b868-433c-9b8b-a75264de4cf5",
   "metadata": {},
   "outputs": [],
   "source": [
    "processor = AutoProcessor.from_pretrained(\"ntu-spml/distilhubert\")\n",
    "model = AutoModelForCTC.from_pretrained(\"ntu-spml/distilhubert\").to(\"cuda\")\n",
    "\n",
    "def prepare(example):\n",
    "    audio = example[\"audio\"]\n",
    "    example[\"input_values\"] = processor(audio[\"array\"], sampling_rate=audio[\"sampling_rate\"]).input_values[0]\n",
    "    with processor.as_target_processor():\n",
    "        example[\"labels\"] = processor(example[\"text\"]).input_ids\n",
    "    return example\n",
    "\n",
    "data = dataset.map(prepare, remove_columns=dataset.column_names)\n",
    "data.set_format(type=\"torch\", columns=[\"input_values\", \"labels\"])"
   ]
  },
  {
   "cell_type": "markdown",
   "id": "a4b24c87-682c-46f4-8c6b-2327c8da0029",
   "metadata": {},
   "source": [
    "#### data collator: \n",
    "Pad and Convert lists of samples into batched tensors for the model, handle labels appropriately for the loss function (CTC)\n",
    "\n",
    "* `padding`: Can be `True`, `\"longest\"`, or `\"max_length\"` – determines how padding is applied.\n",
    "\n",
    "def __call__(self, features: List[Dict]) -> Dict[str, torch.Tensor]:\n",
    "* `features`:{\"input_values\": tensor, \"labels\": [int, int, ...]} "
   ]
  },
  {
   "cell_type": "code",
   "execution_count": null,
   "id": "130bc12a-361c-412e-9c02-bbe3fdc77beb",
   "metadata": {},
   "outputs": [],
   "source": [
    "# Custom DataCollatorCTCWithPadding\n",
    "class DataCollatorCTCWithPadding:\n",
    "    processor: any\n",
    "    padding: Union[bool, str] = True\n",
    "\n",
    "    def __call__(self, features: List[Dict]) -> Dict[str, torch.Tensor]:\n",
    "        input_features = [{\"input_values\": f[\"input_values\"]} for f in features]\n",
    "        label_features = [{\"input_ids\": f[\"labels\"]} for f in features]\n",
    "\n",
    "        # pad input and labels\n",
    "        batch = self.processor.feature_extractor.pad(\n",
    "            input_features,\n",
    "            padding=self.padding,\n",
    "            return_tensors=\"pt\"\n",
    "        )\n",
    "\n",
    "        labels_batch = self.processor.tokenizer.pad(\n",
    "            label_features,\n",
    "            padding=self.padding,\n",
    "            return_tensors=\"pt\"\n",
    "        )\n",
    "\n",
    "        labels = labels_batch[\"input_ids\"].masked_fill(labels_batch.attention_mask.ne(1), -100) # avoid compute loss on padded positions\n",
    "        batch[\"labels\"] = labels\n",
    "        return batch\n",
    "\n",
    "data_collator = DataCollatorCTCWithPadding(processor=processor, padding=True)"
   ]
  },
  {
   "cell_type": "code",
   "execution_count": null,
   "id": "2e6bcb91-31da-4276-bd83-40692c9f4273",
   "metadata": {},
   "outputs": [],
   "source": [
    "training_args = TrainingArguments(\n",
    "    output_dir=\"./checkpoints_distilhubert_asr\",\n",
    "    per_device_train_batch_size=16,\n",
    "    evaluation_strategy=\"steps\",\n",
    "    num_train_epochs=3,\n",
    "    save_steps=1000,\n",
    "    save_total_limit=2,\n",
    "    logging_steps=100,\n",
    "    fp16=True, # Uses less memory\n",
    "    resume_from_checkpoint=True,\n",
    "    report_to=\"wandb\",\n",
    ")"
   ]
  },
  {
   "cell_type": "code",
   "execution_count": null,
   "id": "c0d02b75-7b86-424e-995c-cc3badad357a",
   "metadata": {},
   "outputs": [],
   "source": [
    "transform = jiwer.Compose([\n",
    "    jiwer.ToLowerCase(),\n",
    "    jiwer.RemovePunctuation(),\n",
    "    jiwer.RemoveMultipleSpaces(),\n",
    "    jiwer.Strip(),\n",
    "])\n",
    "\n",
    "def compute_metrics(pred):\n",
    "    pred_logits = pred.predictions\n",
    "    pred_ids = torch.argmax(torch.tensor(pred_logits), dim=-1)\n",
    "\n",
    "    # Decode predictions\n",
    "    pred_str = processor.batch_decode(pred_ids)\n",
    "\n",
    "    # Decode references\n",
    "    label_ids = pred.label_ids\n",
    "    label_ids[label_ids == -100] = processor.tokenizer.pad_token_id\n",
    "    label_str = processor.batch_decode(label_ids, group_tokens=False)\n",
    "\n",
    "    # Normalize\n",
    "    pred_str = [transform(p) for p in pred_str]\n",
    "    label_str = [transform(l) for l in label_str]\n",
    "\n",
    "    # Compute metrics\n",
    "    wer = jiwer.wer(label_str, pred_str)\n",
    "    cer = jiwer.cer(label_str, pred_str)\n",
    "\n",
    "    # Sentence Error Rate: fraction of sentences with at least 1 error\n",
    "    ser = sum(p != l for p, l in zip(pred_str, label_str)) / len(label_str)\n",
    "\n",
    "    return {\n",
    "        \"wer\": wer,\n",
    "        \"cer\": cer,\n",
    "        \"ser\": ser,\n",
    "    }"
   ]
  },
  {
   "cell_type": "code",
   "execution_count": null,
   "id": "8129cee8-a50b-4535-9a0d-c0e47239e3d4",
   "metadata": {},
   "outputs": [],
   "source": [
    "trainer = Trainer(\n",
    "    model=model,\n",
    "    args=training_args,\n",
    "    train_dataset=dataset,\n",
    "    eval_dataset=eval_dataset,\n",
    "    tokenizer=processor,\n",
    "    data_collator=data_collator,\n",
    "    compute_metrics=compute_metrics,\n",
    ")\n",
    "\n",
    "trainer.train(resume_from_checkpoint=True)"
   ]
  }
 ],
 "metadata": {
  "kernelspec": {
   "display_name": "Python 3 (ipykernel)",
   "language": "python",
   "name": "python3"
  },
  "language_info": {
   "codemirror_mode": {
    "name": "ipython",
    "version": 3
   },
   "file_extension": ".py",
   "mimetype": "text/x-python",
   "name": "python",
   "nbconvert_exporter": "python",
   "pygments_lexer": "ipython3",
   "version": "3.10.16"
  }
 },
 "nbformat": 4,
 "nbformat_minor": 5
}
